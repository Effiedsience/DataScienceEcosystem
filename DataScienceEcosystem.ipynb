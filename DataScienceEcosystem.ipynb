{
 "cells": [
  {
   "cell_type": "markdown",
   "id": "44d6bdfd-e26c-4cf1-b314-c371ae8c883c",
   "metadata": {},
   "source": [
    "# Data Science Tools and Ecosystem #\n"
   ]
  },
  {
   "cell_type": "markdown",
   "id": "ea430853-56ee-4841-82e7-5451c3445c3b",
   "metadata": {},
   "source": [
    "**In this notebook, Data Science Tools and Ecosystem are summarized**"
   ]
  },
  {
   "cell_type": "markdown",
   "id": "28e57b5f-ed3a-4619-89cf-37c0d21eb403",
   "metadata": {},
   "source": [
    "Some of the popular languages that Data Scientists use are:"
   ]
  },
  {
   "cell_type": "markdown",
   "id": "532dce3f-1b30-4352-aa19-b438cabe2206",
   "metadata": {},
   "source": [
    "1.Python\n",
    "\n",
    "2.Java\n",
    "\n",
    "3.C++\n"
   ]
  },
  {
   "cell_type": "markdown",
   "id": "ce9a38d4-b7ee-4b65-a83a-dbe0fdf787ac",
   "metadata": {},
   "source": [
    "Some of the commonly used libraries used by Data Scientists include:"
   ]
  },
  {
   "cell_type": "markdown",
   "id": "388d7ce5-f1aa-4b4c-a7ab-98870c37a4ee",
   "metadata": {},
   "source": [
    "| **Data Science Tools**   |\n",
    "| ------  |\n",
    "|Jupyter Notebook   |\n",
    "| R |\n",
    "| Pandas  |\n",
    " "
   ]
  },
  {
   "cell_type": "markdown",
   "id": "ea480e24-d7c6-4149-9c25-fe09a73bde6b",
   "metadata": {},
   "source": [
    "Below are a few examples of evaluating arithmetic expressions in Python"
   ]
  },
  {
   "cell_type": "code",
   "execution_count": 3,
   "id": "abffbb0e-ccf0-4b45-bffa-2fd5c223820b",
   "metadata": {},
   "outputs": [
    {
     "data": {
      "text/plain": [
       "9"
      ]
     },
     "execution_count": 3,
     "metadata": {},
     "output_type": "execute_result"
    }
   ],
   "source": [
    "# Arithmetic operations\n",
    "code = compile(\"5 + 4\", \"<string>\", \"eval\")\n",
    "eval(code)"
   ]
  },
  {
   "cell_type": "code",
   "execution_count": 4,
   "id": "8980c1d6-8e73-409d-98d2-60ac5a6eed2c",
   "metadata": {},
   "outputs": [
    {
     "data": {
      "text/plain": [
       "17"
      ]
     },
     "execution_count": 4,
     "metadata": {},
     "output_type": "execute_result"
    }
   ],
   "source": [
    "#This a simple arithmetic expression to mutiply then add integers\n",
    "(3*4)+5"
   ]
  },
  {
   "cell_type": "code",
   "execution_count": 5,
   "id": "dbdc3a36-6ed9-429b-91cc-5b9651c8a7aa",
   "metadata": {},
   "outputs": [
    {
     "data": {
      "text/plain": [
       "3.3333333333333335"
      ]
     },
     "execution_count": 5,
     "metadata": {},
     "output_type": "execute_result"
    }
   ],
   "source": [
    "#This will convert 200 minutes to hours by diving by 60\n",
    "200/60"
   ]
  },
  {
   "cell_type": "markdown",
   "id": "be076151-30f3-43bf-973a-c536f216a4d4",
   "metadata": {},
   "source": [
    "**Objectives:**"
   ]
  },
  {
   "cell_type": "markdown",
   "id": "141a45f5-3f9a-4289-9900-33869b39c7b2",
   "metadata": {},
   "source": [
    "-  List popular languages for Data Science \n",
    "-  Data sience Tools \n",
    "-  Data sience Models "
   ]
  },
  {
   "cell_type": "markdown",
   "id": "04077af2-14b1-4777-88c7-e1de678d3590",
   "metadata": {},
   "source": [
    "**Author**"
   ]
  },
  {
   "cell_type": "markdown",
   "id": "93c8350c-ed89-42f0-9745-158a3712a803",
   "metadata": {},
   "source": [
    "## Effie Chapsi ##"
   ]
  },
  {
   "cell_type": "code",
   "execution_count": null,
   "id": "6e181636-a1bf-415e-8e58-e1f9aa6598d6",
   "metadata": {},
   "outputs": [],
   "source": []
  }
 ],
 "metadata": {
  "kernelspec": {
   "display_name": "Python 3 (ipykernel)",
   "language": "python",
   "name": "python3"
  },
  "language_info": {
   "codemirror_mode": {
    "name": "ipython",
    "version": 3
   },
   "file_extension": ".py",
   "mimetype": "text/x-python",
   "name": "python",
   "nbconvert_exporter": "python",
   "pygments_lexer": "ipython3",
   "version": "3.11.7"
  }
 },
 "nbformat": 4,
 "nbformat_minor": 5
}
